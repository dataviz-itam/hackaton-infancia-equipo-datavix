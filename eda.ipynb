{
 "cells": [
  {
   "cell_type": "code",
   "execution_count": 42,
   "metadata": {},
   "outputs": [],
   "source": [
    "import pandas as pd\n",
    "import json"
   ]
  },
  {
   "cell_type": "code",
   "execution_count": 2,
   "metadata": {},
   "outputs": [],
   "source": [
    "# indicadores-generales-puebla\n",
    "igp = pd.read_csv('bases/indicadores-generales-puebla.csv')"
   ]
  },
  {
   "cell_type": "code",
   "execution_count": 43,
   "metadata": {},
   "outputs": [],
   "source": [
    "diccionario_valores_unicos = {}\n",
    "\n",
    "for column in igp.columns:\n",
    "    if igp[column].dtype == object:\n",
    "        # Almacenar la lista de valores únicos en el diccionario\n",
    "        diccionario_valores_unicos[column] = igp[column].unique().tolist()"
   ]
  },
  {
   "cell_type": "code",
   "execution_count": 48,
   "metadata": {},
   "outputs": [
    {
     "data": {
      "text/plain": [
       "dict_keys(['Año', 'Entidad', 'Población', 'Sexo', 'Edad'])"
      ]
     },
     "execution_count": 48,
     "metadata": {},
     "output_type": "execute_result"
    }
   ],
   "source": [
    "diccionario_valores_unicos.keys()"
   ]
  },
  {
   "cell_type": "code",
   "execution_count": 50,
   "metadata": {},
   "outputs": [
    {
     "data": {
      "text/plain": [
       "['Población total',\n",
       " 'Población afrodescendiente',\n",
       " 'Población hablante de lengua indígena',\n",
       " 'Población con discapacidad',\n",
       " 'Población sin afiliación a servicio de salud',\n",
       " 'Población casada o en unión libre',\n",
       " 'No disponen de energía eléctrica',\n",
       " 'No disponen de agua entubada',\n",
       " 'No disponen de drenaje',\n",
       " 'No disponen de Internet',\n",
       " 'No disponen de computadora',\n",
       " 'No disponen de televisor',\n",
       " 'Población que nació fuera de la entidad',\n",
       " 'Población que no asiste a la escuela',\n",
       " 'Población con hijos',\n",
       " 'Población con registro',\n",
       " 'Población en pobreza (hasta 2018)',\n",
       " 'Población en pobreza extrema (hasta 2018)',\n",
       " 'Inasistencia escolar',\n",
       " 'Rezago educativo (hasta 2018)',\n",
       " 'Carencia por acceso a servicios de salud (hasta 2018)',\n",
       " 'Carencia por acceso a la alimentación (hasta 2018)',\n",
       " 'Inseguridad alimentaria',\n",
       " 'Carencia por calidad y espacios de la vivienda (hasta 2018)',\n",
       " 'Carencia por servicios básicos de la vivienda (hasta 2018)',\n",
       " 'Tasa de mortalidad infantil',\n",
       " 'Abandono escolar (primaria)',\n",
       " 'Abandono escolar (secundaria)',\n",
       " 'Abandono escolar (media superior)',\n",
       " 'Defunciones por suicidio',\n",
       " 'Defunciones por agresiones',\n",
       " 'Trabajo infantil',\n",
       " 'Repatriaciones desde EUA',\n",
       " 'Víctimas de feminicidio',\n",
       " 'Índice de calidad de leyes',\n",
       " 'Personas desaparecidas y no localizadas',\n",
       " 'Población ocupada',\n",
       " 'Población en pobreza',\n",
       " 'Población en pobreza extrema',\n",
       " 'Rezago educativo',\n",
       " 'Carencia por acceso a servicios de salud',\n",
       " 'Carencia por acceso a la seguridad social',\n",
       " 'Carencia por calidad y espacios de la vivienda',\n",
       " 'Carencia por servicios básicos de la vivienda',\n",
       " 'Carencia por acceso a la alimentación nutritiva y de calidad',\n",
       " 'Población afrodescendiente con discapacidad',\n",
       " 'Población afrodescendiente sin afiliación a servicio de salud',\n",
       " 'Población afrodescendiente que no asiste a la escuela',\n",
       " 'Población afrodescendiente casada o en unión libre',\n",
       " 'Población afrodescendiente con hijos',\n",
       " 'Población indígena con discapacidad',\n",
       " 'Población indígena sin afiliación a servicio de salud',\n",
       " 'Población indígena que no asiste a la escuela',\n",
       " 'Población indígena casada o en unión libre',\n",
       " 'Población indígena con hijos',\n",
       " 'Población no indígena en pobreza',\n",
       " 'Población indígena en pobreza',\n",
       " 'Población no indígena en pobreza extrema',\n",
       " 'Población indígena en pobreza extrema',\n",
       " 'Carencia por acceso a la alimentación nutritiva y de calidad (no indígena)',\n",
       " 'Carencia por acceso a la alimentación nutritiva y de calidad (indígena)',\n",
       " 'Rezago educativo (no indígena)',\n",
       " 'Rezago educativo (indígena)',\n",
       " 'Carencia por acceso a servicios de salud (no indígena)',\n",
       " 'Carencia por acceso a servicios de salud (indígena)',\n",
       " 'Carencia por acceso a la seguridad social (no indígena)',\n",
       " 'Carencia por acceso a la seguridad social (indígena)',\n",
       " 'Carencia por calidad y espacios de la vivienda (no indígena)',\n",
       " 'Carencia por calidad y espacios de la vivienda (indígena)',\n",
       " 'Carencia por servicios básicos de la vivienda (no indígena)',\n",
       " 'Carencia por servicios básicos de la vivienda (indígena)',\n",
       " 'Población con condición mental',\n",
       " 'Población afrodescendiente con condición mental',\n",
       " 'Población con condición mental sin afiliación a servicio de salud',\n",
       " 'Población indígena con condición mental',\n",
       " 'Población con condición mental que no asiste a la escuela']"
      ]
     },
     "execution_count": 50,
     "metadata": {},
     "output_type": "execute_result"
    }
   ],
   "source": [
    "diccionario_valores_unicos['Población']"
   ]
  },
  {
   "cell_type": "code",
   "execution_count": 51,
   "metadata": {},
   "outputs": [],
   "source": [
    "with open('valores_unicos.json', 'w', encoding='utf-8') as file:\n",
    "    json.dump(diccionario_valores_unicos, file, ensure_ascii=False, indent=4)"
   ]
  }
 ],
 "metadata": {
  "kernelspec": {
   "display_name": "base",
   "language": "python",
   "name": "python3"
  },
  "language_info": {
   "codemirror_mode": {
    "name": "ipython",
    "version": 3
   },
   "file_extension": ".py",
   "mimetype": "text/x-python",
   "name": "python",
   "nbconvert_exporter": "python",
   "pygments_lexer": "ipython3",
   "version": "3.9.7"
  }
 },
 "nbformat": 4,
 "nbformat_minor": 2
}
